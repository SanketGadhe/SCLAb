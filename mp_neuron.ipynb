{
  "nbformat": 4,
  "nbformat_minor": 0,
  "metadata": {
    "colab": {
      "provenance": []
    },
    "kernelspec": {
      "name": "python3",
      "display_name": "Python 3"
    },
    "language_info": {
      "name": "python"
    }
  },
  "cells": [
    {
      "cell_type": "code",
      "execution_count": null,
      "metadata": {
        "id": "yokT8NOH4kDM"
      },
      "outputs": [],
      "source": [
        "x1=[0,0,1,1]\n",
        "x2=[0,1,0,1]\n",
        "w1=[1,1,1,1]\n",
        "w2=[1,1,1,1]\n",
        "t=2\n"
      ]
    },
    {
      "cell_type": "code",
      "source": [
        "print(\"x1  x2  w1   w2     t    o\")\n",
        "for i in range(len(x1)):\n",
        "  if(x1[i]*w1[i]+x2[i]*w2[i])>=t:\n",
        "    print(x1[i],'  ',w1[i],'  ',x2[i],'  ',w2[i],'  ',t,'  ',1)\n",
        "  else:\n",
        "    print(x1[i],'  ',w1[i],'  ',x2[i],'  ',w2[i],'  ',t,'  ',0)"
      ],
      "metadata": {
        "colab": {
          "base_uri": "https://localhost:8080/"
        },
        "id": "QdctE1hC5G0u",
        "outputId": "a6f8affd-2984-4a8a-ceea-5eb8dddbde0c"
      },
      "execution_count": null,
      "outputs": [
        {
          "output_type": "stream",
          "name": "stdout",
          "text": [
            "x1  x2  w1   w2     t    o\n",
            "0    1    0    1    2    0\n",
            "0    1    1    1    2    0\n",
            "1    1    0    1    2    0\n",
            "1    1    1    1    2    1\n"
          ]
        }
      ]
    },
    {
      "cell_type": "code",
      "source": [
        "x1=[0,0,1,1]\n",
        "x2=[0,1,0,1]\n",
        "w1=[1,1,1,1]\n",
        "w2=[1,1,1,1]\n",
        "t=1"
      ],
      "metadata": {
        "id": "XhzmMbnR7SFZ"
      },
      "execution_count": null,
      "outputs": []
    },
    {
      "cell_type": "code",
      "source": [
        "print(\"x1  x2  w1   w2     t    o\")\n",
        "for i in range(len(x1)):\n",
        "  if(x1[i]*w1[i]+x2[i]*w2[i])>=t:\n",
        "    print(x1[i],'  ',w1[i],'  ',x2[i],'  ',w2[i],'  ',t,'  ',1)\n",
        "  else:\n",
        "    print(x1[i],'  ',w1[i],'  ',x2[i],'  ',w2[i],'  ',t,'  ',0)"
      ],
      "metadata": {
        "colab": {
          "base_uri": "https://localhost:8080/"
        },
        "id": "vVMLbiF-7uft",
        "outputId": "8e99b33b-2e3f-4f18-afac-d7da9f692ec6"
      },
      "execution_count": null,
      "outputs": [
        {
          "output_type": "stream",
          "name": "stdout",
          "text": [
            "x1  x2  w1   w2     t    o\n",
            "0    1    0    1    1    0\n",
            "0    1    1    1    1    1\n",
            "1    1    0    1    1    1\n",
            "1    1    1    1    1    1\n"
          ]
        }
      ]
    },
    {
      "cell_type": "code",
      "source": [
        "x1=[0,0,1,1]\n",
        "x2=[0,1,0,1]\n",
        "w1=[1,1,1,1]\n",
        "w2=[1,1,1,1]\n",
        "t=1\n",
        "for i in range(len(x1)):\n",
        "\n",
        "   if(x1[i]*w1[i]+x2[i]*w2[i])==t:\n",
        "        print(x1[i],'  ',w1[i],'  ',x2[i],'  ',w2[i],'  ',t,'  ',1)\n",
        "   else:\n",
        "        print(x1[i],'  ',w1[i],'  ',x2[i],'  ',w2[i],'  ',t,'  ',0)\n"
      ],
      "metadata": {
        "colab": {
          "base_uri": "https://localhost:8080/"
        },
        "id": "D9715SMA71Ef",
        "outputId": "2161f685-c589-4053-9b16-324f2423e333"
      },
      "execution_count": null,
      "outputs": [
        {
          "output_type": "stream",
          "name": "stdout",
          "text": [
            "0    1    0    1    1    0\n",
            "0    1    1    1    1    1\n",
            "1    1    0    1    1    1\n",
            "1    1    1    1    1    0\n"
          ]
        }
      ]
    },
    {
      "cell_type": "code",
      "source": [
        "x1 = [0, 0, 1, 1]\n",
        "x2 = [0, 1, 0, 1]\n",
        "w1 = [1, 1, 1, 1]\n",
        "w2 = [1, 1, 1, 1]\n",
        "t = 0  # Threshold for NOR\n",
        "\n",
        "for i in range(len(x1)):\n",
        "\n",
        "   if(x1[i]*w1[i]+x2[i]*w2[i])<=t:\n",
        "        print(x1[i],'  ',w1[i],'  ',x2[i],'  ',w2[i],'  ',t,'  ',1)\n",
        "   else:\n",
        "        print(x1[i],'  ',w1[i],'  ',x2[i],'  ',w2[i],'  ',t,'  ',0)\n"
      ],
      "metadata": {
        "colab": {
          "base_uri": "https://localhost:8080/"
        },
        "id": "LdGj_x_R-7LY",
        "outputId": "1a8df954-1638-456d-8524-3e7dac9679e9"
      },
      "execution_count": null,
      "outputs": [
        {
          "output_type": "stream",
          "name": "stdout",
          "text": [
            "0    1    0    1    0    1\n",
            "0    1    1    1    0    0\n",
            "1    1    0    1    0    0\n",
            "1    1    1    1    0    0\n"
          ]
        }
      ]
    },
    {
      "cell_type": "code",
      "source": [],
      "metadata": {
        "id": "JZMOTPJEFCmI"
      },
      "execution_count": null,
      "outputs": []
    }
  ]
}